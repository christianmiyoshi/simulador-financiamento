{
 "cells": [
  {
   "cell_type": "code",
   "execution_count": 239,
   "metadata": {},
   "outputs": [],
   "source": [
    "from decimal import Decimal\n",
    "\n",
    "\n",
    "valor_imovel = Decimal('400000')\n",
    "aluguel = Decimal('2000')\n",
    "\n",
    "def tax_annual_to_monthly(tax):\n",
    "    return Decimal(pow(1 + float(tax), 1/12) - 1)\n",
    "\n",
    "tax_financiamento_anual = Decimal('0.07')\n",
    "tax_financiamento_mensal = tax_annual_to_monthly(tax_financiamento_anual)"
   ]
  },
  {
   "cell_type": "code",
   "execution_count": 240,
   "metadata": {},
   "outputs": [
    {
     "data": {
      "text/plain": [
       "mes                                360\n",
       "ano                                 30\n",
       "prestacao                         0.00\n",
       "aluguel                       26535.36\n",
       "juros                             0.00\n",
       "amortizacao                          0\n",
       "saldo_devedor                     0.00\n",
       "salario                       26535.36\n",
       "aportes_financiando           26535.36\n",
       "aportes_alugando                  0.00\n",
       "rendimento_financiando        23450.78\n",
       "investimento_financiando    4867764.10\n",
       "valorizacao_financiando      970904.99\n",
       "total_financiando           5838669.09\n",
       "rendimento_alugando            5145.46\n",
       "total_alugando              1062239.91\n",
       "Name: 360, dtype: object"
      ]
     },
     "metadata": {},
     "output_type": "display_data"
    }
   ],
   "source": [
    "import pandas as pd\n",
    "\n",
    "\n",
    "\n",
    "\n",
    "\n",
    "prazo_mes = 120\n",
    "entrada = Decimal('100000.00')\n",
    "outros_custos = Decimal('10000.00')\n",
    "valor_financiado = valor_imovel - entrada\n",
    "amortizacao_sac = valor_financiado / prazo_mes\n",
    "\n",
    "df = pd.DataFrame({\n",
    "    'mes': [0],\n",
    "    'ano': [0],\n",
    "    'prestacao': [entrada + outros_custos],\n",
    "    'aluguel': [Decimal('0.00')],\n",
    "    'juros': [Decimal('0.00')],\n",
    "    'amortizacao': [Decimal('0.00')],\n",
    "    'saldo_devedor': [valor_financiado],\n",
    "    'salario':[Decimal('0.00')],\n",
    "    'aportes_financiando': [Decimal('0.00')],\n",
    "    'aportes_alugando': entrada + outros_custos,\n",
    "    'rendimento_financiando': Decimal('0.00'),\n",
    "    'investimento_financiando': Decimal('0.00'),\n",
    "    'valorizacao_financiando': Decimal('0.00'),\n",
    "    'total_financiando': valor_imovel - valor_financiado,\n",
    "    'rendimento_alugando': 0,\n",
    "    'total_alugando': entrada + outros_custos\n",
    "})\n",
    "\n",
    "\n",
    "precision = 2\n",
    "for i in range(1, 361):\n",
    "\n",
    "    if i%12 == 1:\n",
    "        selic_anual = Decimal('0.06')\n",
    "        selic_mensal = tax_annual_to_monthly(selic_anual)\n",
    "        igpm = Decimal('0.09')\n",
    "        valorizacao = Decimal('0.03')\n",
    "\n",
    "    row = {}\n",
    "\n",
    "    row['ano'] = i//12\n",
    "    row['mes'] = i    \n",
    "    row['amortizacao'] = amortizacao_sac if df.iloc[-1]['saldo_devedor'] > 0 else 0\n",
    "    row['saldo_devedor'] = df.iloc[-1]['saldo_devedor'] - row['amortizacao']\n",
    "    row['juros'] = round(df.iloc[-1]['saldo_devedor'] * tax_financiamento_mensal, precision)\n",
    "    row['prestacao'] = row['amortizacao'] + row['juros']\n",
    "    row['aluguel'] = round(aluguel * (1 + igpm) ** row['ano'], precision)\n",
    "    row['salario'] = max(row['prestacao'], row['aluguel'])\n",
    "\n",
    "    row['aportes_financiando'] = row['salario'] - row['prestacao']\n",
    "    row['rendimento_financiando'] = round(df.iloc[-1]['investimento_financiando'] * selic_mensal, precision)\n",
    "    row['investimento_financiando'] = df.iloc[-1]['investimento_financiando'] + row['aportes_financiando']  + row['rendimento_financiando']\n",
    "    row['valorizacao_financiando'] = round(valor_imovel * (1 + valorizacao) ** row['ano'], precision)\n",
    "    row['total_financiando'] = row['investimento_financiando'] + row['valorizacao_financiando'] - row['saldo_devedor']    \n",
    "\n",
    "    row['aportes_alugando'] = row['salario'] - row['aluguel']\n",
    "    row['rendimento_alugando'] = round(df.iloc[-1]['total_alugando'] * selic_mensal, precision)\n",
    "    row['total_alugando'] = df.iloc[-1]['total_alugando'] + row['rendimento_alugando'] + row['aportes_alugando']\n",
    "\n",
    "    df = pd.concat([df, pd.DataFrame.from_records([row])], ignore_index=True)\n",
    "\n",
    "\n",
    "display(df.iloc[-1])"
   ]
  },
  {
   "cell_type": "code",
   "execution_count": null,
   "metadata": {},
   "outputs": [],
   "source": []
  }
 ],
 "metadata": {
  "kernelspec": {
   "display_name": "Python 3.10.4 64-bit",
   "language": "python",
   "name": "python3"
  },
  "language_info": {
   "codemirror_mode": {
    "name": "ipython",
    "version": 3
   },
   "file_extension": ".py",
   "mimetype": "text/x-python",
   "name": "python",
   "nbconvert_exporter": "python",
   "pygments_lexer": "ipython3",
   "version": "3.10.8"
  },
  "orig_nbformat": 4,
  "vscode": {
   "interpreter": {
    "hash": "3ad933181bd8a04b432d3370b9dc3b0662ad032c4dfaa4e4f1596c548f763858"
   }
  }
 },
 "nbformat": 4,
 "nbformat_minor": 2
}
